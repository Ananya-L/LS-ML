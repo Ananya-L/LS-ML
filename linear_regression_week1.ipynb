{
  "nbformat": 4,
  "nbformat_minor": 0,
  "metadata": {
    "colab": {
      "provenance": [],
      "toc_visible": true,
      "include_colab_link": true
    },
    "kernelspec": {
      "name": "python3",
      "display_name": "Python 3"
    },
    "language_info": {
      "name": "python"
    }
  },
  "cells": [
    {
      "cell_type": "markdown",
      "metadata": {
        "id": "view-in-github",
        "colab_type": "text"
      },
      "source": [
        "<a href=\"https://colab.research.google.com/github/Ananya-L/LS-ML/blob/main/linear_regression_week1.ipynb\" target=\"_parent\"><img src=\"https://colab.research.google.com/assets/colab-badge.svg\" alt=\"Open In Colab\"/></a>"
      ]
    },
    {
      "cell_type": "code",
      "execution_count": 57,
      "metadata": {
        "id": "-zTLHrFCT6KY"
      },
      "outputs": [],
      "source": [
        "import numpy as np\n",
        "import pandas as pd\n",
        "import matplotlib.pyplot as plt\n",
        "\n",
        "# Aim is to predict the marks of students of the test data"
      ]
    },
    {
      "cell_type": "code",
      "source": [
        "data = pd.read_excel('/Training data.xlsx')\n",
        "data['internet'] = data['internet'].map({'yes': 1, 'no': 0})\n",
        "data['sex'] = data['sex'].map({'M': 1, 'F': 0})\n",
        "\n",
        "# Verify encoding\n",
        "print(data.head())\n",
        "x_train = np.array(data.iloc[:, 0:8])\n",
        "y_train = np.array(data.iloc[:, 8]).reshape(-1, 1)\n",
        "\n",
        "# Define function for feature engineering if needed\n",
        "def feature_changing(x_train):\n",
        "    # Placeholder for feature engineering, if required\n",
        "    return x_train\n",
        "\n",
        "x_train = feature_changing(x_train)"
      ],
      "metadata": {
        "id": "p0KHq8ZgTpU4",
        "colab": {
          "base_uri": "https://localhost:8080/"
        },
        "outputId": "57b55820-ab69-4cfd-a43b-394bcc9934f7"
      },
      "execution_count": 58,
      "outputs": [
        {
          "output_type": "stream",
          "name": "stdout",
          "text": [
            "   internet  sex  traveltime  studytime  freetime  absences  age   iq  marks\n",
            "0         0    1           2          2         5         6   18  118  73.13\n",
            "1         1    1           2          2         2         7   19  107  67.78\n",
            "2         1    1           3          3         3         5   18  108  70.84\n",
            "3         0    0           3          3         4         9   17  100  66.68\n",
            "4         1    1           1          4         3         4   19   96  71.88\n"
          ]
        }
      ]
    },
    {
      "cell_type": "code",
      "source": [
        "def z_score(x_train):\n",
        "    x_mean = np.mean(x_train, axis=0)\n",
        "    x_std = np.std(x_train, axis=0)\n",
        "    x_train = (x_train - x_mean) / x_std\n",
        "    return x_train, x_mean, x_std\n",
        "\n",
        "x_train, x_mean, x_std = z_score(x_train)\n",
        "\n",
        "# Ensure x_mean and x_std are numpy arrays of float64 type\n",
        "x_mean = np.array(x_mean, dtype=np.float64)\n",
        "x_std = np.array(x_std, dtype=np.float64)"
      ],
      "metadata": {
        "id": "tYshvtYlVour"
      },
      "execution_count": 59,
      "outputs": []
    },
    {
      "cell_type": "code",
      "source": [
        "def cost(x_train, y_train, w, b):\n",
        "    m = x_train.shape[0]\n",
        "    predictions = np.dot(x_train, w) + b\n",
        "    loss = (1 / (2 * m)) * np.sum((predictions - y_train) ** 2)\n",
        "    return loss"
      ],
      "metadata": {
        "id": "O5dOwbNbWJWa"
      },
      "execution_count": 60,
      "outputs": []
    },
    {
      "cell_type": "code",
      "source": [
        "def gradient_descent(x_train, y_train, w, b, learning_rate=0.01):\n",
        "    m = x_train.shape[0]\n",
        "    global iterations  # Define iterations as a global variable\n",
        "    for i in range(iterations):\n",
        "        predictions = np.dot(x_train, w) + b\n",
        "        dw = (1 / m) * np.dot(x_train.T, (predictions - y_train))\n",
        "        db = (1 / m) * np.sum(predictions - y_train)\n",
        "        w -= learning_rate * dw\n",
        "        b -= learning_rate * db\n",
        "    return w, b"
      ],
      "metadata": {
        "id": "hW8p2cTNU74W"
      },
      "execution_count": 62,
      "outputs": []
    },
    {
      "cell_type": "code",
      "source": [
        "x_train = x_train.astype(np.float64)  # Ensure float64 type for calculations\n",
        "\n",
        "np.random.seed(2147483647)\n",
        "w = np.random.randn(x_train.shape[1], 1)\n",
        "b = np.random.randn(1)\n",
        "\n",
        "old_cost = 0\n",
        "\n",
        "while abs(old_cost - cost(x_train, y_train, w, b)) > 0.00001:\n",
        "    old_cost = cost(x_train, y_train, w, b)\n",
        "    w, b = gradient_descent(x_train, y_train, w, b)\n",
        "\n",
        "# Prediction and evaluation on test data\n",
        "x_mean = np.array(x_mean, dtype=np.float64)\n",
        "x_std = np.array(x_std, dtype=np.float64)\n",
        "\n",
        "# Prediction and evaluation on test data\n",
        "data = pd.read_excel('/Test data.xlsx')\n",
        "\n",
        "# Assuming feature_changing modifies x_predict in the same way\n",
        "x_predict = data.iloc[:, :8].to_numpy()\n",
        "\n",
        "# Handle categorical data (example: 'internet' and 'sex' columns)\n",
        "# Convert 'internet' column: 'yes' -> 1, 'no' -> 0\n",
        "internet_column_index = 0  # Replace with the actual index of 'internet' column\n",
        "x_predict[:, internet_column_index] = np.where(x_predict[:, internet_column_index] == 'yes', 1, 0)\n",
        "\n",
        "# Convert 'sex' column: 'M' -> 1, 'F' -> 0\n",
        "sex_column_index = 1  # Replace with the actual index of 'sex' column\n",
        "x_predict[:, sex_column_index] = np.where(x_predict[:, sex_column_index] == 'M', 1, 0)\n",
        "\n",
        "# Convert the entire array to float64\n",
        "x_predict = x_predict.astype(np.float64)\n",
        "\n",
        "x_predict = (x_predict - x_mean) / x_std\n",
        "\n",
        "ans = data.iloc[:, 8].to_numpy().astype(np.float64)\n",
        "\n",
        "y_predict = np.dot(x_predict, w) + b\n",
        "\n",
        "accuracy = 0\n",
        "for dim in range(len(ans)):\n",
        "    if abs(y_predict[dim] - ans[dim]) < 0.5:\n",
        "        accuracy += 1\n",
        "\n",
        "accuracy = round(accuracy * 100 / len(ans), 2)\n",
        "\n",
        "ok = 'Congratulations' if accuracy > 95 else 'Optimization required'\n",
        "print(f\"{ok}, your accuracy is {accuracy}%\")"
      ],
      "metadata": {
        "id": "Kl-fioJ5WkYn",
        "colab": {
          "base_uri": "https://localhost:8080/"
        },
        "outputId": "cccfa426-6e5f-4c20-84d5-3acc9de21f4f"
      },
      "execution_count": 63,
      "outputs": [
        {
          "output_type": "stream",
          "name": "stdout",
          "text": [
            "Congratulations, your accuracy is 100.0%\n"
          ]
        }
      ]
    }
  ]
}